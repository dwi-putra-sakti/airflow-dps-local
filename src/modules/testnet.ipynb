{
 "cells": [
  {
   "cell_type": "markdown",
   "id": "2c258ec3",
   "metadata": {},
   "source": [
    "Test net"
   ]
  },
  {
   "cell_type": "code",
   "execution_count": 1,
   "id": "a05e20bd",
   "metadata": {},
   "outputs": [],
   "source": [
    "store_list=['MD563','JOG03','MD387']\n",
    "placeholders =  \", \".join([f\"'{s}'\" for s in store_list])\n",
    "# df1['kode_list'] = df1['kode'].str.split(',')\n",
    "\n",
    "# 2. Explode untuk meratakan\n",
    "# df1_exploded = df1.explode('kode_list')"
   ]
  },
  {
   "cell_type": "code",
   "execution_count": 5,
   "id": "560279b4",
   "metadata": {},
   "outputs": [],
   "source": [
    "from django.db import connection\n",
    "def execute_raw_sql(query, params=None):\n",
    "    with connection.cursor() as cursor:\n",
    "        cursor.execute(query, params or [])\n",
    "        columns = [col[0] for col in cursor.description]  # Get column names from cursor description\n",
    "        result = cursor.fetchall()\n",
    "\n",
    "        # Convert result to a list of dictionaries where column names are keys\n",
    "        formatted_result = [dict(zip(columns, row)) for row in result]\n",
    "    return formatted_result\n",
    "dbLoad = 'default'\n",
    "dbsave = 'local'"
   ]
  },
  {
   "cell_type": "code",
   "execution_count": 8,
   "id": "fde633cd",
   "metadata": {},
   "outputs": [
    {
     "ename": "ImproperlyConfigured",
     "evalue": "Requested setting DATABASES, but settings are not configured. You must either define the environment variable DJANGO_SETTINGS_MODULE or call settings.configure() before accessing settings.",
     "output_type": "error",
     "traceback": [
      "\u001b[1;31m---------------------------------------------------------------------------\u001b[0m",
      "\u001b[1;31mKeyError\u001b[0m                                  Traceback (most recent call last)",
      "File \u001b[1;32mc:\\Users\\IT-ANALIS\\AppData\\Local\\Programs\\Python\\Python311\\Lib\\site-packages\\asgiref\\local.py:19\u001b[0m, in \u001b[0;36m_CVar.__getattr__\u001b[1;34m(self, key)\u001b[0m\n\u001b[0;32m     18\u001b[0m \u001b[38;5;28;01mtry\u001b[39;00m:\n\u001b[1;32m---> 19\u001b[0m     \u001b[38;5;28;01mreturn\u001b[39;00m \u001b[43mstorage_object\u001b[49m\u001b[43m[\u001b[49m\u001b[43mkey\u001b[49m\u001b[43m]\u001b[49m\n\u001b[0;32m     20\u001b[0m \u001b[38;5;28;01mexcept\u001b[39;00m \u001b[38;5;167;01mKeyError\u001b[39;00m:\n",
      "\u001b[1;31mKeyError\u001b[0m: 'default'",
      "\nDuring handling of the above exception, another exception occurred:\n",
      "\u001b[1;31mAttributeError\u001b[0m                            Traceback (most recent call last)",
      "File \u001b[1;32mc:\\Users\\IT-ANALIS\\AppData\\Local\\Programs\\Python\\Python311\\Lib\\site-packages\\django\\utils\\connection.py:58\u001b[0m, in \u001b[0;36mBaseConnectionHandler.__getitem__\u001b[1;34m(self, alias)\u001b[0m\n\u001b[0;32m     57\u001b[0m \u001b[38;5;28;01mtry\u001b[39;00m:\n\u001b[1;32m---> 58\u001b[0m     \u001b[38;5;28;01mreturn\u001b[39;00m \u001b[38;5;28;43mgetattr\u001b[39;49m\u001b[43m(\u001b[49m\u001b[38;5;28;43mself\u001b[39;49m\u001b[38;5;241;43m.\u001b[39;49m\u001b[43m_connections\u001b[49m\u001b[43m,\u001b[49m\u001b[43m \u001b[49m\u001b[43malias\u001b[49m\u001b[43m)\u001b[49m\n\u001b[0;32m     59\u001b[0m \u001b[38;5;28;01mexcept\u001b[39;00m \u001b[38;5;167;01mAttributeError\u001b[39;00m:\n",
      "File \u001b[1;32mc:\\Users\\IT-ANALIS\\AppData\\Local\\Programs\\Python\\Python311\\Lib\\site-packages\\asgiref\\local.py:118\u001b[0m, in \u001b[0;36mLocal.__getattr__\u001b[1;34m(self, key)\u001b[0m\n\u001b[0;32m    117\u001b[0m \u001b[38;5;28;01mwith\u001b[39;00m \u001b[38;5;28mself\u001b[39m\u001b[38;5;241m.\u001b[39m_lock_storage() \u001b[38;5;28;01mas\u001b[39;00m storage:\n\u001b[1;32m--> 118\u001b[0m     \u001b[38;5;28;01mreturn\u001b[39;00m \u001b[38;5;28;43mgetattr\u001b[39;49m\u001b[43m(\u001b[49m\u001b[43mstorage\u001b[49m\u001b[43m,\u001b[49m\u001b[43m \u001b[49m\u001b[43mkey\u001b[49m\u001b[43m)\u001b[49m\n",
      "File \u001b[1;32mc:\\Users\\IT-ANALIS\\AppData\\Local\\Programs\\Python\\Python311\\Lib\\site-packages\\asgiref\\local.py:21\u001b[0m, in \u001b[0;36m_CVar.__getattr__\u001b[1;34m(self, key)\u001b[0m\n\u001b[0;32m     20\u001b[0m \u001b[38;5;28;01mexcept\u001b[39;00m \u001b[38;5;167;01mKeyError\u001b[39;00m:\n\u001b[1;32m---> 21\u001b[0m     \u001b[38;5;28;01mraise\u001b[39;00m \u001b[38;5;167;01mAttributeError\u001b[39;00m(\u001b[38;5;124mf\u001b[39m\u001b[38;5;124m\"\u001b[39m\u001b[38;5;132;01m{\u001b[39;00m\u001b[38;5;28mself\u001b[39m\u001b[38;5;132;01m!r}\u001b[39;00m\u001b[38;5;124m object has no attribute \u001b[39m\u001b[38;5;132;01m{\u001b[39;00mkey\u001b[38;5;132;01m!r}\u001b[39;00m\u001b[38;5;124m\"\u001b[39m)\n",
      "\u001b[1;31mAttributeError\u001b[0m: <asgiref.local._CVar object at 0x000001E6A9D08E50> object has no attribute 'default'",
      "\nDuring handling of the above exception, another exception occurred:\n",
      "\u001b[1;31mImproperlyConfigured\u001b[0m                      Traceback (most recent call last)",
      "Cell \u001b[1;32mIn[8], line 9\u001b[0m\n\u001b[0;32m      7\u001b[0m         df \u001b[38;5;241m=\u001b[39m pd\u001b[38;5;241m.\u001b[39mDataFrame(results)\n\u001b[0;32m      8\u001b[0m         \u001b[38;5;28;01mreturn\u001b[39;00m df\n\u001b[1;32m----> 9\u001b[0m df_cus\u001b[38;5;241m=\u001b[39m\u001b[43mdf__customers_pb_n\u001b[49m\u001b[43m(\u001b[49m\u001b[43mplaceholders\u001b[49m\u001b[43m)\u001b[49m\n\u001b[0;32m     10\u001b[0m cus_list\u001b[38;5;241m=\u001b[39m df_cus[\u001b[38;5;124m'\u001b[39m\u001b[38;5;124mfn_cusid\u001b[39m\u001b[38;5;124m'\u001b[39m]\u001b[38;5;241m.\u001b[39mtolist()\n\u001b[0;32m     11\u001b[0m cus_list \u001b[38;5;241m=\u001b[39m  \u001b[38;5;124m\"\u001b[39m\u001b[38;5;124m, \u001b[39m\u001b[38;5;124m\"\u001b[39m\u001b[38;5;241m.\u001b[39mjoin([\u001b[38;5;124mf\u001b[39m\u001b[38;5;124m\"\u001b[39m\u001b[38;5;124m'\u001b[39m\u001b[38;5;132;01m{\u001b[39;00ms\u001b[38;5;132;01m}\u001b[39;00m\u001b[38;5;124m'\u001b[39m\u001b[38;5;124m\"\u001b[39m \u001b[38;5;28;01mfor\u001b[39;00m s \u001b[38;5;129;01min\u001b[39;00m cus_list])\n",
      "Cell \u001b[1;32mIn[8], line 6\u001b[0m, in \u001b[0;36mdf__customers_pb_n\u001b[1;34m(placeholders)\u001b[0m\n\u001b[0;32m      1\u001b[0m \u001b[38;5;28;01mdef\u001b[39;00m \u001b[38;5;21mdf__customers_pb_n\u001b[39m(placeholders):\n\u001b[0;32m      2\u001b[0m         query \u001b[38;5;241m=\u001b[39m \u001b[38;5;124mf\u001b[39m\u001b[38;5;124m'''\u001b[39m\n\u001b[0;32m      3\u001b[0m \u001b[38;5;124m            SELECT fn_cusid,fn_whconsiid FROM gis_local.customers_pb\u001b[39m\n\u001b[0;32m      4\u001b[0m \u001b[38;5;124m            where fc_code in (\u001b[39m\u001b[38;5;132;01m{\u001b[39;00mplaceholders\u001b[38;5;132;01m}\u001b[39;00m\u001b[38;5;124m)\u001b[39m\n\u001b[0;32m      5\u001b[0m \u001b[38;5;124m            \u001b[39m\u001b[38;5;124m'''\u001b[39m\n\u001b[1;32m----> 6\u001b[0m         results \u001b[38;5;241m=\u001b[39m \u001b[43mexecute_raw_sql\u001b[49m\u001b[43m(\u001b[49m\u001b[43mquery\u001b[49m\u001b[43m)\u001b[49m\n\u001b[0;32m      7\u001b[0m         df \u001b[38;5;241m=\u001b[39m pd\u001b[38;5;241m.\u001b[39mDataFrame(results)\n\u001b[0;32m      8\u001b[0m         \u001b[38;5;28;01mreturn\u001b[39;00m df\n",
      "Cell \u001b[1;32mIn[5], line 3\u001b[0m, in \u001b[0;36mexecute_raw_sql\u001b[1;34m(query, params)\u001b[0m\n\u001b[0;32m      2\u001b[0m \u001b[38;5;28;01mdef\u001b[39;00m \u001b[38;5;21mexecute_raw_sql\u001b[39m(query, params\u001b[38;5;241m=\u001b[39m\u001b[38;5;28;01mNone\u001b[39;00m):\n\u001b[1;32m----> 3\u001b[0m     \u001b[38;5;28;01mwith\u001b[39;00m \u001b[43mconnection\u001b[49m\u001b[38;5;241;43m.\u001b[39;49m\u001b[43mcursor\u001b[49m() \u001b[38;5;28;01mas\u001b[39;00m cursor:\n\u001b[0;32m      4\u001b[0m         cursor\u001b[38;5;241m.\u001b[39mexecute(query, params \u001b[38;5;129;01mor\u001b[39;00m [])\n\u001b[0;32m      5\u001b[0m         columns \u001b[38;5;241m=\u001b[39m [col[\u001b[38;5;241m0\u001b[39m] \u001b[38;5;28;01mfor\u001b[39;00m col \u001b[38;5;129;01min\u001b[39;00m cursor\u001b[38;5;241m.\u001b[39mdescription]  \u001b[38;5;66;03m# Get column names from cursor description\u001b[39;00m\n",
      "File \u001b[1;32mc:\\Users\\IT-ANALIS\\AppData\\Local\\Programs\\Python\\Python311\\Lib\\site-packages\\django\\utils\\connection.py:15\u001b[0m, in \u001b[0;36mConnectionProxy.__getattr__\u001b[1;34m(self, item)\u001b[0m\n\u001b[0;32m     14\u001b[0m \u001b[38;5;28;01mdef\u001b[39;00m \u001b[38;5;21m__getattr__\u001b[39m(\u001b[38;5;28mself\u001b[39m, item):\n\u001b[1;32m---> 15\u001b[0m     \u001b[38;5;28;01mreturn\u001b[39;00m \u001b[38;5;28mgetattr\u001b[39m(\u001b[38;5;28;43mself\u001b[39;49m\u001b[38;5;241;43m.\u001b[39;49m\u001b[43m_connections\u001b[49m\u001b[43m[\u001b[49m\u001b[38;5;28;43mself\u001b[39;49m\u001b[38;5;241;43m.\u001b[39;49m\u001b[43m_alias\u001b[49m\u001b[43m]\u001b[49m, item)\n",
      "File \u001b[1;32mc:\\Users\\IT-ANALIS\\AppData\\Local\\Programs\\Python\\Python311\\Lib\\site-packages\\django\\utils\\connection.py:60\u001b[0m, in \u001b[0;36mBaseConnectionHandler.__getitem__\u001b[1;34m(self, alias)\u001b[0m\n\u001b[0;32m     58\u001b[0m     \u001b[38;5;28;01mreturn\u001b[39;00m \u001b[38;5;28mgetattr\u001b[39m(\u001b[38;5;28mself\u001b[39m\u001b[38;5;241m.\u001b[39m_connections, alias)\n\u001b[0;32m     59\u001b[0m \u001b[38;5;28;01mexcept\u001b[39;00m \u001b[38;5;167;01mAttributeError\u001b[39;00m:\n\u001b[1;32m---> 60\u001b[0m     \u001b[38;5;28;01mif\u001b[39;00m alias \u001b[38;5;129;01mnot\u001b[39;00m \u001b[38;5;129;01min\u001b[39;00m \u001b[38;5;28;43mself\u001b[39;49m\u001b[38;5;241;43m.\u001b[39;49m\u001b[43msettings\u001b[49m:\n\u001b[0;32m     61\u001b[0m         \u001b[38;5;28;01mraise\u001b[39;00m \u001b[38;5;28mself\u001b[39m\u001b[38;5;241m.\u001b[39mexception_class(\u001b[38;5;124mf\u001b[39m\u001b[38;5;124m\"\u001b[39m\u001b[38;5;124mThe connection \u001b[39m\u001b[38;5;124m'\u001b[39m\u001b[38;5;132;01m{\u001b[39;00malias\u001b[38;5;132;01m}\u001b[39;00m\u001b[38;5;124m'\u001b[39m\u001b[38;5;124m doesn\u001b[39m\u001b[38;5;124m'\u001b[39m\u001b[38;5;124mt exist.\u001b[39m\u001b[38;5;124m\"\u001b[39m)\n\u001b[0;32m     62\u001b[0m conn \u001b[38;5;241m=\u001b[39m \u001b[38;5;28mself\u001b[39m\u001b[38;5;241m.\u001b[39mcreate_connection(alias)\n",
      "File \u001b[1;32mc:\\Users\\IT-ANALIS\\AppData\\Local\\Programs\\Python\\Python311\\Lib\\site-packages\\django\\utils\\functional.py:47\u001b[0m, in \u001b[0;36mcached_property.__get__\u001b[1;34m(self, instance, cls)\u001b[0m\n\u001b[0;32m     45\u001b[0m \u001b[38;5;28;01mif\u001b[39;00m instance \u001b[38;5;129;01mis\u001b[39;00m \u001b[38;5;28;01mNone\u001b[39;00m:\n\u001b[0;32m     46\u001b[0m     \u001b[38;5;28;01mreturn\u001b[39;00m \u001b[38;5;28mself\u001b[39m\n\u001b[1;32m---> 47\u001b[0m res \u001b[38;5;241m=\u001b[39m instance\u001b[38;5;241m.\u001b[39m\u001b[38;5;18m__dict__\u001b[39m[\u001b[38;5;28mself\u001b[39m\u001b[38;5;241m.\u001b[39mname] \u001b[38;5;241m=\u001b[39m \u001b[38;5;28;43mself\u001b[39;49m\u001b[38;5;241;43m.\u001b[39;49m\u001b[43mfunc\u001b[49m\u001b[43m(\u001b[49m\u001b[43minstance\u001b[49m\u001b[43m)\u001b[49m\n\u001b[0;32m     48\u001b[0m \u001b[38;5;28;01mreturn\u001b[39;00m res\n",
      "File \u001b[1;32mc:\\Users\\IT-ANALIS\\AppData\\Local\\Programs\\Python\\Python311\\Lib\\site-packages\\django\\utils\\connection.py:45\u001b[0m, in \u001b[0;36mBaseConnectionHandler.settings\u001b[1;34m(self)\u001b[0m\n\u001b[0;32m     43\u001b[0m \u001b[38;5;129m@cached_property\u001b[39m\n\u001b[0;32m     44\u001b[0m \u001b[38;5;28;01mdef\u001b[39;00m \u001b[38;5;21msettings\u001b[39m(\u001b[38;5;28mself\u001b[39m):\n\u001b[1;32m---> 45\u001b[0m     \u001b[38;5;28mself\u001b[39m\u001b[38;5;241m.\u001b[39m_settings \u001b[38;5;241m=\u001b[39m \u001b[38;5;28;43mself\u001b[39;49m\u001b[38;5;241;43m.\u001b[39;49m\u001b[43mconfigure_settings\u001b[49m\u001b[43m(\u001b[49m\u001b[38;5;28;43mself\u001b[39;49m\u001b[38;5;241;43m.\u001b[39;49m\u001b[43m_settings\u001b[49m\u001b[43m)\u001b[49m\n\u001b[0;32m     46\u001b[0m     \u001b[38;5;28;01mreturn\u001b[39;00m \u001b[38;5;28mself\u001b[39m\u001b[38;5;241m.\u001b[39m_settings\n",
      "File \u001b[1;32mc:\\Users\\IT-ANALIS\\AppData\\Local\\Programs\\Python\\Python311\\Lib\\site-packages\\django\\db\\utils.py:148\u001b[0m, in \u001b[0;36mConnectionHandler.configure_settings\u001b[1;34m(self, databases)\u001b[0m\n\u001b[0;32m    147\u001b[0m \u001b[38;5;28;01mdef\u001b[39;00m \u001b[38;5;21mconfigure_settings\u001b[39m(\u001b[38;5;28mself\u001b[39m, databases):\n\u001b[1;32m--> 148\u001b[0m     databases \u001b[38;5;241m=\u001b[39m \u001b[38;5;28;43msuper\u001b[39;49m\u001b[43m(\u001b[49m\u001b[43m)\u001b[49m\u001b[38;5;241;43m.\u001b[39;49m\u001b[43mconfigure_settings\u001b[49m\u001b[43m(\u001b[49m\u001b[43mdatabases\u001b[49m\u001b[43m)\u001b[49m\n\u001b[0;32m    149\u001b[0m     \u001b[38;5;28;01mif\u001b[39;00m databases \u001b[38;5;241m==\u001b[39m {}:\n\u001b[0;32m    150\u001b[0m         databases[DEFAULT_DB_ALIAS] \u001b[38;5;241m=\u001b[39m {\u001b[38;5;124m\"\u001b[39m\u001b[38;5;124mENGINE\u001b[39m\u001b[38;5;124m\"\u001b[39m: \u001b[38;5;124m\"\u001b[39m\u001b[38;5;124mdjango.db.backends.dummy\u001b[39m\u001b[38;5;124m\"\u001b[39m}\n",
      "File \u001b[1;32mc:\\Users\\IT-ANALIS\\AppData\\Local\\Programs\\Python\\Python311\\Lib\\site-packages\\django\\utils\\connection.py:50\u001b[0m, in \u001b[0;36mBaseConnectionHandler.configure_settings\u001b[1;34m(self, settings)\u001b[0m\n\u001b[0;32m     48\u001b[0m \u001b[38;5;28;01mdef\u001b[39;00m \u001b[38;5;21mconfigure_settings\u001b[39m(\u001b[38;5;28mself\u001b[39m, settings):\n\u001b[0;32m     49\u001b[0m     \u001b[38;5;28;01mif\u001b[39;00m settings \u001b[38;5;129;01mis\u001b[39;00m \u001b[38;5;28;01mNone\u001b[39;00m:\n\u001b[1;32m---> 50\u001b[0m         settings \u001b[38;5;241m=\u001b[39m \u001b[38;5;28;43mgetattr\u001b[39;49m\u001b[43m(\u001b[49m\u001b[43mdjango_settings\u001b[49m\u001b[43m,\u001b[49m\u001b[43m \u001b[49m\u001b[38;5;28;43mself\u001b[39;49m\u001b[38;5;241;43m.\u001b[39;49m\u001b[43msettings_name\u001b[49m\u001b[43m)\u001b[49m\n\u001b[0;32m     51\u001b[0m     \u001b[38;5;28;01mreturn\u001b[39;00m settings\n",
      "File \u001b[1;32mc:\\Users\\IT-ANALIS\\AppData\\Local\\Programs\\Python\\Python311\\Lib\\site-packages\\django\\conf\\__init__.py:81\u001b[0m, in \u001b[0;36mLazySettings.__getattr__\u001b[1;34m(self, name)\u001b[0m\n\u001b[0;32m     79\u001b[0m \u001b[38;5;250m\u001b[39m\u001b[38;5;124;03m\"\"\"Return the value of a setting and cache it in self.__dict__.\"\"\"\u001b[39;00m\n\u001b[0;32m     80\u001b[0m \u001b[38;5;28;01mif\u001b[39;00m (_wrapped \u001b[38;5;241m:=\u001b[39m \u001b[38;5;28mself\u001b[39m\u001b[38;5;241m.\u001b[39m_wrapped) \u001b[38;5;129;01mis\u001b[39;00m empty:\n\u001b[1;32m---> 81\u001b[0m     \u001b[38;5;28;43mself\u001b[39;49m\u001b[38;5;241;43m.\u001b[39;49m\u001b[43m_setup\u001b[49m\u001b[43m(\u001b[49m\u001b[43mname\u001b[49m\u001b[43m)\u001b[49m\n\u001b[0;32m     82\u001b[0m     _wrapped \u001b[38;5;241m=\u001b[39m \u001b[38;5;28mself\u001b[39m\u001b[38;5;241m.\u001b[39m_wrapped\n\u001b[0;32m     83\u001b[0m val \u001b[38;5;241m=\u001b[39m \u001b[38;5;28mgetattr\u001b[39m(_wrapped, name)\n",
      "File \u001b[1;32mc:\\Users\\IT-ANALIS\\AppData\\Local\\Programs\\Python\\Python311\\Lib\\site-packages\\django\\conf\\__init__.py:61\u001b[0m, in \u001b[0;36mLazySettings._setup\u001b[1;34m(self, name)\u001b[0m\n\u001b[0;32m     59\u001b[0m \u001b[38;5;28;01mif\u001b[39;00m \u001b[38;5;129;01mnot\u001b[39;00m settings_module:\n\u001b[0;32m     60\u001b[0m     desc \u001b[38;5;241m=\u001b[39m (\u001b[38;5;124m\"\u001b[39m\u001b[38;5;124msetting \u001b[39m\u001b[38;5;132;01m%s\u001b[39;00m\u001b[38;5;124m\"\u001b[39m \u001b[38;5;241m%\u001b[39m name) \u001b[38;5;28;01mif\u001b[39;00m name \u001b[38;5;28;01melse\u001b[39;00m \u001b[38;5;124m\"\u001b[39m\u001b[38;5;124msettings\u001b[39m\u001b[38;5;124m\"\u001b[39m\n\u001b[1;32m---> 61\u001b[0m     \u001b[38;5;28;01mraise\u001b[39;00m ImproperlyConfigured(\n\u001b[0;32m     62\u001b[0m         \u001b[38;5;124m\"\u001b[39m\u001b[38;5;124mRequested \u001b[39m\u001b[38;5;132;01m%s\u001b[39;00m\u001b[38;5;124m, but settings are not configured. \u001b[39m\u001b[38;5;124m\"\u001b[39m\n\u001b[0;32m     63\u001b[0m         \u001b[38;5;124m\"\u001b[39m\u001b[38;5;124mYou must either define the environment variable \u001b[39m\u001b[38;5;132;01m%s\u001b[39;00m\u001b[38;5;124m \u001b[39m\u001b[38;5;124m\"\u001b[39m\n\u001b[0;32m     64\u001b[0m         \u001b[38;5;124m\"\u001b[39m\u001b[38;5;124mor call settings.configure() before accessing settings.\u001b[39m\u001b[38;5;124m\"\u001b[39m\n\u001b[0;32m     65\u001b[0m         \u001b[38;5;241m%\u001b[39m (desc, ENVIRONMENT_VARIABLE)\n\u001b[0;32m     66\u001b[0m     )\n\u001b[0;32m     68\u001b[0m \u001b[38;5;28mself\u001b[39m\u001b[38;5;241m.\u001b[39m_wrapped \u001b[38;5;241m=\u001b[39m Settings(settings_module)\n",
      "\u001b[1;31mImproperlyConfigured\u001b[0m: Requested setting DATABASES, but settings are not configured. You must either define the environment variable DJANGO_SETTINGS_MODULE or call settings.configure() before accessing settings."
     ]
    }
   ],
   "source": [
    "def df__customers_pb_n(placeholders):\n",
    "        query = f'''\n",
    "            SELECT fn_cusid,fn_whconsiid FROM gis_local.customers_pb\n",
    "            where fc_code in ({placeholders})\n",
    "            '''\n",
    "        results = execute_raw_sql(query)\n",
    "        df = pd.DataFrame(results)\n",
    "        return df\n",
    "df_cus=df__customers_pb_n(placeholders)\n",
    "cus_list= df_cus['fn_cusid'].tolist()\n",
    "cus_list =  \", \".join([f\"'{s}'\" for s in cus_list])\n",
    "whconsi_list=df_cus['fn_whconsiid'].tolist()\n",
    "whconsi_list =  \", \".join([f\"'{s}'\" for s in whconsi_list])\n",
    "def change_cusid_to_whconsiid(df):\n",
    "    df_cus=df__customers_pb_n(placeholders)\n",
    "    df=pd.merge(df,df_cus,how='left',on='fn_cusid')\n",
    "    df['fn_cusid']=df['fn_whconsiid']\n",
    "    df=df.drop(columns='fn_whconsiid')\n",
    "    df=df.rename(columns={'fn_cusid':'fn_whconsiid'})\n",
    "    return df\n",
    "def get_ostdo_(cus_list):\n",
    "    query = f'''\n",
    "        SELECT fv_artsizecode,fv_barcode from artikel_pb\n",
    "        '''\n",
    "    results = execute_raw_sql(query)\n",
    "    df_art = pd.DataFrame(results)\n",
    "    query_1= f'''SELECT \n",
    "    c.fn_cusid ,fv_artsizecode, sum(fn_qty) fn_qty\n",
    "    FROM gis_db.dodtl_tb a \n",
    "    inner join gis_db.domst_tb b on a.fc_nodoc=b.fc_nodoc\n",
    "    inner join gis_db.t_ordermst c on b.fc_noreff=fv_noorder\n",
    "    left join gis_db.t_receivingmst d on b.fc_nodoc=d.fc_nosj\n",
    "    where  fv_noreceiving is null and c.fn_cusid in ({cus_list}) and b.fc_status=\"F\" \n",
    "    group by fn_cusid, fv_artsizecode, fd_date \n",
    "    '''\n",
    "    # DatabaseConnector.execute_raw_sql(OutstandingDO_query, using=StockDashboardAPIView.dbsave)\n",
    "    results_1 = DatabaseConnector.execute_raw_sql(query_1, using=StockDashboardAPIView.dbsave)\n",
    "    df = pd.DataFrame(results_1)\n",
    "    df=change_cusid_to_whconsiid(df)\n",
    "    df=pd.merge(df, df_art, on='fv_artsizecode', how='left')\n",
    "    df=df.groupby(['fn_whconsiid','fv_barcode',], as_index=False)['fn_qty'].sum()\n",
    "    return df\n",
    "OutstandingDO_df=get_ostdo_(cus_list)"
   ]
  },
  {
   "cell_type": "code",
   "execution_count": null,
   "id": "4de1fc31",
   "metadata": {},
   "outputs": [],
   "source": []
  }
 ],
 "metadata": {
  "kernelspec": {
   "display_name": "Python 3",
   "language": "python",
   "name": "python3"
  },
  "language_info": {
   "codemirror_mode": {
    "name": "ipython",
    "version": 3
   },
   "file_extension": ".py",
   "mimetype": "text/x-python",
   "name": "python",
   "nbconvert_exporter": "python",
   "pygments_lexer": "ipython3",
   "version": "3.11.9"
  }
 },
 "nbformat": 4,
 "nbformat_minor": 5
}
